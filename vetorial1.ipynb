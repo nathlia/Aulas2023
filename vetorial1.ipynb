{
  "nbformat": 4,
  "nbformat_minor": 0,
  "metadata": {
    "colab": {
      "provenance": [],
      "include_colab_link": true
    },
    "kernelspec": {
      "name": "python3",
      "display_name": "Python 3"
    },
    "language_info": {
      "name": "python"
    }
  },
  "cells": [
    {
      "cell_type": "markdown",
      "metadata": {
        "id": "view-in-github",
        "colab_type": "text"
      },
      "source": [
        "<a href=\"https://colab.research.google.com/github/nathlia/Aulas2023/blob/RECUPERA%C3%87%C3%83O-DE-INFORMA%C3%87%C3%83O-E-PERSONALIZA%C3%87%C3%83O-NA-WEB-(DPADP0152)/vetorial1.ipynb\" target=\"_parent\"><img src=\"https://colab.research.google.com/assets/colab-badge.svg\" alt=\"Open In Colab\"/></a>"
      ]
    },
    {
      "cell_type": "code",
      "execution_count": null,
      "metadata": {
        "id": "K29vSaX5XN0H"
      },
      "outputs": [],
      "source": []
    },
    {
      "cell_type": "code",
      "source": [
        "class InvertedIndex:\n",
        "    def __init__(self):\n",
        "        self.index = {}\n",
        "\n",
        "    def add_document(self, doc_id, text):\n",
        "        words = text.split()\n",
        "        for word in words:\n",
        "            if word not in self.index:\n",
        "                self.index[word] = []\n",
        "            if doc_id not in self.index[word]:\n",
        "                self.index[word].append(doc_id)\n",
        "\n",
        "    def search(self, query):\n",
        "        if query in self.index:\n",
        "            return self.index[query]\n",
        "        else:\n",
        "            return []\n",
        "    def show(self):\n",
        "        return self.index\n",
        "\n",
        "# Exemplo de uso\n",
        "index = InvertedIndex()\n",
        "\n",
        "# Adicionar documentos ao índice\n",
        "index.add_document(1, \"Este é um exemplo de documento.\")\n",
        "index.add_document(2, \"Outro documento para demonstração.\")\n",
        "index.add_document(3, \"Este documento é um exemplo similar ao primeiro.\")\n",
        "\n",
        "# Realizar buscas\n",
        "query = \"exemplo\"\n",
        "result = index.search(query)\n",
        "print(f\"Documentos contendo a palavra '{query}': {result}\")\n"
      ],
      "metadata": {
        "colab": {
          "base_uri": "https://localhost:8080/"
        },
        "id": "Av6AcMSKXTVV",
        "outputId": "1f947539-d245-41a5-8185-d2cdcb6de3af"
      },
      "execution_count": null,
      "outputs": [
        {
          "output_type": "stream",
          "name": "stdout",
          "text": [
            "Documentos contendo a palavra 'exemplo': [1, 3]\n"
          ]
        }
      ]
    },
    {
      "cell_type": "code",
      "source": [
        "print(index.show())"
      ],
      "metadata": {
        "colab": {
          "base_uri": "https://localhost:8080/"
        },
        "id": "0uxzBoDQydbb",
        "outputId": "646408a7-e8f1-4533-e388-35520cd35c8f"
      },
      "execution_count": null,
      "outputs": [
        {
          "output_type": "stream",
          "name": "stdout",
          "text": [
            "{'Este': [1, 3], 'é': [1, 3], 'um': [1, 3], 'exemplo': [1, 3], 'de': [1], 'documento.': [1], 'Outro': [2], 'documento': [2, 3], 'para': [2], 'demonstração.': [2], 'similar': [3], 'ao': [3], 'primeiro.': [3]}\n"
          ]
        }
      ]
    },
    {
      "cell_type": "code",
      "source": [
        "print(type(index))"
      ],
      "metadata": {
        "id": "eCLfsiiHpY-w",
        "colab": {
          "base_uri": "https://localhost:8080/"
        },
        "outputId": "a9298102-6dde-49db-be2c-d3a4e6f255e1"
      },
      "execution_count": null,
      "outputs": [
        {
          "output_type": "stream",
          "name": "stdout",
          "text": [
            "<class '__main__.InvertedIndex'>\n"
          ]
        }
      ]
    }
  ]
}