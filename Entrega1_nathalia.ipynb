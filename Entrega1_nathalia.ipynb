{
  "nbformat": 4,
  "nbformat_minor": 0,
  "metadata": {
    "colab": {
      "provenance": [],
      "authorship_tag": "ABX9TyOwFaCsz8t+w1LInfJChwZC",
      "include_colab_link": true
    },
    "kernelspec": {
      "name": "python3",
      "display_name": "Python 3"
    },
    "language_info": {
      "name": "python"
    }
  },
  "cells": [
    {
      "cell_type": "markdown",
      "metadata": {
        "id": "view-in-github",
        "colab_type": "text"
      },
      "source": [
        "<a href=\"https://colab.research.google.com/github/nathlia/Aulas2023/blob/RECUPERA%C3%87%C3%83O-DE-INFORMA%C3%87%C3%83O-E-PERSONALIZA%C3%87%C3%83O-NA-WEB-(DPADP0152)/Entrega1_nathalia.ipynb\" target=\"_parent\"><img src=\"https://colab.research.google.com/assets/colab-badge.svg\" alt=\"Open In Colab\"/></a>"
      ]
    },
    {
      "cell_type": "markdown",
      "source": [],
      "metadata": {
        "id": "-42-vl_x1K46"
      }
    },
    {
      "cell_type": "markdown",
      "source": [
        "# New Section"
      ],
      "metadata": {
        "id": "lTS2I1GM16Xd"
      }
    },
    {
      "cell_type": "markdown",
      "source": [
        "import tfidVectorizer\n"
      ],
      "metadata": {
        "id": "bZRCSsSOz_tj"
      }
    },
    {
      "cell_type": "code",
      "source": [
        "import numpy as np\n",
        "from sklearn.feature_extraction.text import TfidfVectorizer\n",
        "from sklearn.metrics.pairwise import cosine_similarity"
      ],
      "metadata": {
        "id": "y8AN6cB33OU5"
      },
      "execution_count": null,
      "outputs": []
    },
    {
      "cell_type": "code",
      "source": [
        "from google.colab import files\n",
        "\n",
        "# Use the files.upload() method to upload files\n",
        "uploaded = files.upload()\n"
      ],
      "metadata": {
        "colab": {
          "base_uri": "https://localhost:8080/",
          "height": 38
        },
        "id": "LCzhYt973Qnk",
        "outputId": "f930ac4d-43cd-4280-8f4f-baa3d51c1a16"
      },
      "execution_count": null,
      "outputs": [
        {
          "output_type": "display_data",
          "data": {
            "text/plain": [
              "<IPython.core.display.HTML object>"
            ],
            "text/html": [
              "\n",
              "     <input type=\"file\" id=\"files-5aacadb2-fcea-49d6-84e8-19b9461300e9\" name=\"files[]\" multiple disabled\n",
              "        style=\"border:none\" />\n",
              "     <output id=\"result-5aacadb2-fcea-49d6-84e8-19b9461300e9\">\n",
              "      Upload widget is only available when the cell has been executed in the\n",
              "      current browser session. Please rerun this cell to enable.\n",
              "      </output>\n",
              "      <script>// Copyright 2017 Google LLC\n",
              "//\n",
              "// Licensed under the Apache License, Version 2.0 (the \"License\");\n",
              "// you may not use this file except in compliance with the License.\n",
              "// You may obtain a copy of the License at\n",
              "//\n",
              "//      http://www.apache.org/licenses/LICENSE-2.0\n",
              "//\n",
              "// Unless required by applicable law or agreed to in writing, software\n",
              "// distributed under the License is distributed on an \"AS IS\" BASIS,\n",
              "// WITHOUT WARRANTIES OR CONDITIONS OF ANY KIND, either express or implied.\n",
              "// See the License for the specific language governing permissions and\n",
              "// limitations under the License.\n",
              "\n",
              "/**\n",
              " * @fileoverview Helpers for google.colab Python module.\n",
              " */\n",
              "(function(scope) {\n",
              "function span(text, styleAttributes = {}) {\n",
              "  const element = document.createElement('span');\n",
              "  element.textContent = text;\n",
              "  for (const key of Object.keys(styleAttributes)) {\n",
              "    element.style[key] = styleAttributes[key];\n",
              "  }\n",
              "  return element;\n",
              "}\n",
              "\n",
              "// Max number of bytes which will be uploaded at a time.\n",
              "const MAX_PAYLOAD_SIZE = 100 * 1024;\n",
              "\n",
              "function _uploadFiles(inputId, outputId) {\n",
              "  const steps = uploadFilesStep(inputId, outputId);\n",
              "  const outputElement = document.getElementById(outputId);\n",
              "  // Cache steps on the outputElement to make it available for the next call\n",
              "  // to uploadFilesContinue from Python.\n",
              "  outputElement.steps = steps;\n",
              "\n",
              "  return _uploadFilesContinue(outputId);\n",
              "}\n",
              "\n",
              "// This is roughly an async generator (not supported in the browser yet),\n",
              "// where there are multiple asynchronous steps and the Python side is going\n",
              "// to poll for completion of each step.\n",
              "// This uses a Promise to block the python side on completion of each step,\n",
              "// then passes the result of the previous step as the input to the next step.\n",
              "function _uploadFilesContinue(outputId) {\n",
              "  const outputElement = document.getElementById(outputId);\n",
              "  const steps = outputElement.steps;\n",
              "\n",
              "  const next = steps.next(outputElement.lastPromiseValue);\n",
              "  return Promise.resolve(next.value.promise).then((value) => {\n",
              "    // Cache the last promise value to make it available to the next\n",
              "    // step of the generator.\n",
              "    outputElement.lastPromiseValue = value;\n",
              "    return next.value.response;\n",
              "  });\n",
              "}\n",
              "\n",
              "/**\n",
              " * Generator function which is called between each async step of the upload\n",
              " * process.\n",
              " * @param {string} inputId Element ID of the input file picker element.\n",
              " * @param {string} outputId Element ID of the output display.\n",
              " * @return {!Iterable<!Object>} Iterable of next steps.\n",
              " */\n",
              "function* uploadFilesStep(inputId, outputId) {\n",
              "  const inputElement = document.getElementById(inputId);\n",
              "  inputElement.disabled = false;\n",
              "\n",
              "  const outputElement = document.getElementById(outputId);\n",
              "  outputElement.innerHTML = '';\n",
              "\n",
              "  const pickedPromise = new Promise((resolve) => {\n",
              "    inputElement.addEventListener('change', (e) => {\n",
              "      resolve(e.target.files);\n",
              "    });\n",
              "  });\n",
              "\n",
              "  const cancel = document.createElement('button');\n",
              "  inputElement.parentElement.appendChild(cancel);\n",
              "  cancel.textContent = 'Cancel upload';\n",
              "  const cancelPromise = new Promise((resolve) => {\n",
              "    cancel.onclick = () => {\n",
              "      resolve(null);\n",
              "    };\n",
              "  });\n",
              "\n",
              "  // Wait for the user to pick the files.\n",
              "  const files = yield {\n",
              "    promise: Promise.race([pickedPromise, cancelPromise]),\n",
              "    response: {\n",
              "      action: 'starting',\n",
              "    }\n",
              "  };\n",
              "\n",
              "  cancel.remove();\n",
              "\n",
              "  // Disable the input element since further picks are not allowed.\n",
              "  inputElement.disabled = true;\n",
              "\n",
              "  if (!files) {\n",
              "    return {\n",
              "      response: {\n",
              "        action: 'complete',\n",
              "      }\n",
              "    };\n",
              "  }\n",
              "\n",
              "  for (const file of files) {\n",
              "    const li = document.createElement('li');\n",
              "    li.append(span(file.name, {fontWeight: 'bold'}));\n",
              "    li.append(span(\n",
              "        `(${file.type || 'n/a'}) - ${file.size} bytes, ` +\n",
              "        `last modified: ${\n",
              "            file.lastModifiedDate ? file.lastModifiedDate.toLocaleDateString() :\n",
              "                                    'n/a'} - `));\n",
              "    const percent = span('0% done');\n",
              "    li.appendChild(percent);\n",
              "\n",
              "    outputElement.appendChild(li);\n",
              "\n",
              "    const fileDataPromise = new Promise((resolve) => {\n",
              "      const reader = new FileReader();\n",
              "      reader.onload = (e) => {\n",
              "        resolve(e.target.result);\n",
              "      };\n",
              "      reader.readAsArrayBuffer(file);\n",
              "    });\n",
              "    // Wait for the data to be ready.\n",
              "    let fileData = yield {\n",
              "      promise: fileDataPromise,\n",
              "      response: {\n",
              "        action: 'continue',\n",
              "      }\n",
              "    };\n",
              "\n",
              "    // Use a chunked sending to avoid message size limits. See b/62115660.\n",
              "    let position = 0;\n",
              "    do {\n",
              "      const length = Math.min(fileData.byteLength - position, MAX_PAYLOAD_SIZE);\n",
              "      const chunk = new Uint8Array(fileData, position, length);\n",
              "      position += length;\n",
              "\n",
              "      const base64 = btoa(String.fromCharCode.apply(null, chunk));\n",
              "      yield {\n",
              "        response: {\n",
              "          action: 'append',\n",
              "          file: file.name,\n",
              "          data: base64,\n",
              "        },\n",
              "      };\n",
              "\n",
              "      let percentDone = fileData.byteLength === 0 ?\n",
              "          100 :\n",
              "          Math.round((position / fileData.byteLength) * 100);\n",
              "      percent.textContent = `${percentDone}% done`;\n",
              "\n",
              "    } while (position < fileData.byteLength);\n",
              "  }\n",
              "\n",
              "  // All done.\n",
              "  yield {\n",
              "    response: {\n",
              "      action: 'complete',\n",
              "    }\n",
              "  };\n",
              "}\n",
              "\n",
              "scope.google = scope.google || {};\n",
              "scope.google.colab = scope.google.colab || {};\n",
              "scope.google.colab._files = {\n",
              "  _uploadFiles,\n",
              "  _uploadFilesContinue,\n",
              "};\n",
              "})(self);\n",
              "</script> "
            ]
          },
          "metadata": {}
        }
      ]
    },
    {
      "cell_type": "markdown",
      "source": [
        "dezipar(n usei)"
      ],
      "metadata": {
        "id": "ifNEaSSz0E-1"
      }
    },
    {
      "cell_type": "code",
      "source": [
        "import zipfile\n",
        "\n",
        "# Specify the path to the zip file\n",
        "zip_file_path = '/content/drive/MyDrive/tech.zip'\n",
        "\n",
        "# Specify the directory where you want to extract the contents\n",
        "extract_dir = '/content/drive/MyDrive/tech'\n",
        "\n",
        "# Open the zip file and extract its contents\n",
        "with zipfile.ZipFile(zip_file_path, 'r') as zip_ref:\n",
        "    zip_ref.extractall(extract_dir)\n"
      ],
      "metadata": {
        "id": "2xEh46Y3AmcR"
      },
      "execution_count": null,
      "outputs": []
    },
    {
      "cell_type": "markdown",
      "source": [
        "importando os stopwords"
      ],
      "metadata": {
        "id": "OeXBYBnm0Kks"
      }
    },
    {
      "cell_type": "code",
      "execution_count": 19,
      "metadata": {
        "id": "rz1c5jo7Pdcq",
        "colab": {
          "base_uri": "https://localhost:8080/"
        },
        "outputId": "ccd248fa-7ae6-4ff7-df99-2d7b70a936a6"
      },
      "outputs": [
        {
          "output_type": "stream",
          "name": "stderr",
          "text": [
            "[nltk_data] Downloading package stopwords to /root/nltk_data...\n",
            "[nltk_data]   Package stopwords is already up-to-date!\n"
          ]
        }
      ],
      "source": [
        "## Library imports\n",
        "import numpy as np\n",
        "import pandas as pd\n",
        "\n",
        "from sklearn.feature_extraction.text import CountVectorizer\n",
        "\n",
        "import os, glob, re, sys, random, unicodedata, collections\n",
        "from tqdm import tqdm\n",
        "from functools import reduce\n",
        "import nltk\n",
        "nltk.download('stopwords')\n",
        "from collections import Counter\n",
        "\n",
        "from nltk.corpus import stopwords\n",
        "from nltk.stem import RSLPStemmer\n",
        "from nltk.tokenize import sent_tokenize , word_tokenize\n",
        "\n",
        "STOP_WORDS = set(stopwords.words('english'))"
      ]
    },
    {
      "cell_type": "markdown",
      "source": [
        "mounted google drive para acessar os textos, escolhi a pasta tech e importei para o drive"
      ],
      "metadata": {
        "id": "vmP6lNbB0Npl"
      }
    },
    {
      "cell_type": "code",
      "source": [
        "from google.colab import drive\n",
        "drive.mount('/content/drive/MyDrive')"
      ],
      "metadata": {
        "colab": {
          "base_uri": "https://localhost:8080/"
        },
        "id": "iRzYgZKes_gq",
        "outputId": "23c323a8-eb27-4a20-ad91-3c7f33a2e3bd"
      },
      "execution_count": 7,
      "outputs": [
        {
          "output_type": "stream",
          "name": "stdout",
          "text": [
            "Mounted at /content/drive/MyDrive\n"
          ]
        }
      ]
    },
    {
      "cell_type": "code",
      "source": [
        "import os\n",
        "\n",
        "# Path to your Google Drive directory\n",
        "google_drive_path = '/content/drive/MyDrive/MyDrive/ENTREGA1/tech'\n",
        "\n",
        "# List the files and subdirectories in your Google Drive directory\n",
        "file_list = os.listdir(google_drive_path)\n",
        "\n",
        "# Count the number of files\n",
        "file_count = len(file_list)\n",
        "\n",
        "# Print the count\n",
        "print(f\"Number of files in your Google Drive directory: {file_count}\")"
      ],
      "metadata": {
        "id": "zBPnQ2JrpzEa",
        "colab": {
          "base_uri": "https://localhost:8080/"
        },
        "outputId": "ccd7f8d3-45e2-42bb-a9a9-c1164cd33612"
      },
      "execution_count": 11,
      "outputs": [
        {
          "output_type": "stream",
          "name": "stdout",
          "text": [
            "Number of files in your Google Drive directory: 401\n"
          ]
        }
      ]
    },
    {
      "cell_type": "code",
      "source": [
        "import random\n"
      ],
      "metadata": {
        "id": "931goM_P8QvB"
      },
      "execution_count": 26,
      "outputs": []
    },
    {
      "cell_type": "code",
      "source": [
        "cwd = os.getcwd()  # Get the current working directory (cwd)\n",
        "files = os.listdir(google_drive_path)  # Get all the files in that directory\n",
        "print(\"Files in %r: %s\" % (cwd, files))"
      ],
      "metadata": {
        "colab": {
          "base_uri": "https://localhost:8080/"
        },
        "id": "XT0K4QYs8gSi",
        "outputId": "d263a0b0-35c3-4b86-edeb-68921b82243c"
      },
      "execution_count": 30,
      "outputs": [
        {
          "output_type": "stream",
          "name": "stdout",
          "text": [
            "Files in '/content': ['023.txt', '020.txt', '018.txt', '016.txt', '021.txt', '015.txt', '017.txt', '019.txt', '022.txt', '014.txt', '012.txt', '010.txt', '008.txt', '013.txt', '009.txt', '005.txt', '007.txt', '011.txt', '006.txt', '024.txt', '054.txt', '053.txt', '050.txt', '045.txt', '049.txt', '047.txt', '048.txt', '046.txt', '051.txt', '052.txt', '044.txt', '033.txt', '026.txt', '031.txt', '028.txt', '029.txt', '025.txt', '027.txt', '043.txt', '037.txt', '041.txt', '040.txt', '035.txt', '036.txt', '038.txt', '039.txt', '042.txt', '034.txt', '030.txt', '032.txt', '084.txt', '073.txt', '066.txt', '065.txt', '068.txt', '069.txt', '071.txt', '083.txt', '080.txt', '078.txt', '081.txt', '075.txt', '076.txt', '079.txt', '077.txt', '082.txt', '074.txt', '067.txt', '070.txt', '063.txt', '060.txt', '059.txt', '055.txt', '061.txt', '057.txt', '058.txt', '072.txt', '064.txt', '056.txt', '062.txt', '113.txt', '111.txt', '110.txt', '106.txt', '105.txt', '107.txt', '109.txt', '108.txt', '112.txt', '104.txt', '093.txt', '090.txt', '087.txt', '089.txt', '091.txt', '086.txt', '088.txt', '102.txt', '103.txt', '100.txt', '099.txt', '095.txt', '096.txt', '097.txt', '098.txt', '101.txt', '094.txt', '085.txt', '092.txt', '133.txt', '125.txt', '126.txt', '129.txt', '127.txt', '131.txt', '128.txt', '136.txt', '137.txt', '135.txt', '139.txt', '141.txt', '142.txt', '134.txt', '130.txt', '132.txt', '124.txt', '123.txt', '120.txt', '121.txt', '119.txt', '116.txt', '118.txt', '115.txt', '117.txt', '122.txt', '114.txt', '165.txt', '168.txt', '167.txt', '166.txt', '170.txt', '171.txt', '163.txt', '155.txt', '161.txt', '157.txt', '160.txt', '158.txt', '156.txt', '172.txt', '164.txt', '159.txt', '152.txt', '148.txt', '146.txt', '145.txt', '150.txt', '147.txt', '149.txt', '162.txt', '154.txt', '151.txt', '153.txt', '143.txt', '140.txt', '138.txt', '144.txt', '200.txt', '202.txt', '194.txt', '193.txt', '188.txt', '189.txt', '191.txt', '185.txt', '190.txt', '186.txt', '187.txt', '192.txt', '183.txt', '177.txt', '178.txt', '181.txt', '179.txt', '175.txt', '180.txt', '184.txt', '176.txt', '182.txt', '174.txt', '173.txt', '169.txt', '232.txt', '203.txt', '195.txt', '201.txt', '199.txt', '196.txt', '197.txt', '198.txt', '224.txt', '223.txt', '216.txt', '220.txt', '219.txt', '218.txt', '221.txt', '217.txt', '213.txt', '210.txt', '207.txt', '208.txt', '209.txt', '205.txt', '211.txt', '215.txt', '222.txt', '214.txt', '206.txt', '212.txt', '204.txt', '254.txt', '243.txt', '238.txt', '235.txt', '237.txt', '240.txt', '241.txt', '236.txt', '253.txt', '249.txt', '250.txt', '246.txt', '248.txt', '247.txt', '251.txt', '245.txt', '252.txt', '244.txt', '242.txt', '239.txt', '234.txt', '233.txt', '230.txt', '228.txt', '225.txt', '227.txt', '229.txt', '231.txt', '226.txt', '284.txt', '283.txt', '277.txt', '278.txt', '275.txt', '281.txt', '280.txt', '276.txt', '273.txt', '267.txt', '266.txt', '265.txt', '271.txt', '270.txt', '268.txt', '279.txt', '282.txt', '272.txt', '274.txt', '263.txt', '259.txt', '260.txt', '257.txt', '258.txt', '256.txt', '255.txt', '269.txt', '264.txt', '261.txt', '262.txt', '313.txt', '311.txt', '305.txt', '309.txt', '306.txt', '307.txt', '310.txt', '303.txt', '296.txt', '295.txt', '299.txt', '301.txt', '298.txt', '297.txt', '308.txt', '312.txt', '304.txt', '293.txt', '288.txt', '287.txt', '286.txt', '285.txt', '290.txt', '291.txt', '300.txt', '302.txt', '294.txt', '289.txt', '292.txt', '339.txt', '336.txt', '342.txt', '334.txt', '333.txt', '331.txt', '325.txt', '329.txt', '330.txt', '326.txt', '327.txt', '324.txt', '328.txt', '323.txt', '321.txt', '320.txt', '319.txt', '318.txt', '317.txt', '316.txt', '332.txt', '315.txt', '322.txt', '314.txt', '364.txt', '363.txt', '357.txt', '358.txt', '360.txt', '356.txt', '355.txt', '361.txt', '353.txt', '350.txt', '348.txt', '346.txt', '345.txt', '349.txt', '351.txt', '359.txt', '362.txt', '354.txt', '347.txt', '343.txt', '335.txt', '341.txt', '340.txt', '338.txt', '337.txt', '352.txt', '344.txt', '394.txt', '393.txt', '389.txt', '390.txt', '386.txt', '391.txt', '385.txt', '387.txt', '388.txt', '392.txt', '384.txt', '383.txt', '379.txt', '378.txt', '375.txt', '376.txt', '377.txt', '380.txt', '381.txt', '382.txt', '373.txt', '365.txt', '371.txt', '370.txt', '368.txt', '369.txt', '374.txt', '366.txt', '367.txt', '372.txt', '400.txt', '395.txt', '399.txt', '396.txt', '398.txt', '397.txt', '004.txt', '003.txt', '002.txt', '401.txt', '001.txt']\n"
          ]
        }
      ]
    },
    {
      "cell_type": "code",
      "source": [
        "# select and read 10 random files\n",
        "sample_texts = random.sample(files,10)\n",
        "print(\"Lista de textos:\\n\", sample_texts)\n",
        "\n",
        "docs = []\n",
        "for fname in sample_texts:\n",
        "    print(google_drive_path + '/' + fname )\n",
        "    with open(google_drive_path + '/' + fname , \"r\", encoding=\"ISO-8859-1\") as file:\n",
        "        text = file.read()\n",
        "    docs.append(text)\n",
        "print(\"aqui2\")"
      ],
      "metadata": {
        "colab": {
          "base_uri": "https://localhost:8080/"
        },
        "id": "xTqF3Rv82opb",
        "outputId": "a7f49e75-c999-414b-cad4-913dc5b157db"
      },
      "execution_count": 38,
      "outputs": [
        {
          "output_type": "stream",
          "name": "stdout",
          "text": [
            "Lista de textos:\n",
            " ['330.txt', '338.txt', '035.txt', '024.txt', '253.txt', '144.txt', '313.txt', '368.txt', '323.txt', '298.txt']\n",
            "/content/drive/MyDrive/MyDrive/ENTREGA1/tech/330.txt\n",
            "/content/drive/MyDrive/MyDrive/ENTREGA1/tech/338.txt\n",
            "/content/drive/MyDrive/MyDrive/ENTREGA1/tech/035.txt\n",
            "/content/drive/MyDrive/MyDrive/ENTREGA1/tech/024.txt\n",
            "/content/drive/MyDrive/MyDrive/ENTREGA1/tech/253.txt\n",
            "/content/drive/MyDrive/MyDrive/ENTREGA1/tech/144.txt\n",
            "/content/drive/MyDrive/MyDrive/ENTREGA1/tech/313.txt\n",
            "/content/drive/MyDrive/MyDrive/ENTREGA1/tech/368.txt\n",
            "/content/drive/MyDrive/MyDrive/ENTREGA1/tech/323.txt\n",
            "/content/drive/MyDrive/MyDrive/ENTREGA1/tech/298.txt\n",
            "aqui2\n"
          ]
        }
      ]
    },
    {
      "cell_type": "code",
      "source": [
        "print(STOP_WORDS)"
      ],
      "metadata": {
        "colab": {
          "base_uri": "https://localhost:8080/"
        },
        "id": "GO9rP_Zu5dVG",
        "outputId": "4fc1fe1a-d25f-4603-a4ab-ba453bf82a95"
      },
      "execution_count": 21,
      "outputs": [
        {
          "output_type": "stream",
          "name": "stdout",
          "text": [
            "{'once', 'off', 'when', 'and', 'with', 'are', 'into', 'below', 'herself', 'after', 'then', 'doing', \"won't\", \"you'll\", 'had', \"she's\", 'a', 'does', 'his', 'isn', 'ours', 'there', \"hadn't\", 'up', 'each', 'ma', 'until', 'what', 'being', 'not', 'same', 'over', 'hadn', 'before', 'whom', 's', \"shan't\", 'it', \"needn't\", 'am', 'at', \"haven't\", 'my', 'as', 'hers', 'their', 'should', 'needn', 'won', 'o', \"you've\", 'your', \"doesn't\", 'her', \"you'd\", 'about', 'has', 'how', 'themselves', \"couldn't\", 'both', 'other', 'some', \"isn't\", 'by', \"wouldn't\", 'if', 'these', 'on', 'doesn', \"mustn't\", 'did', 'any', 'more', 'wouldn', 'didn', 'myself', 'they', 'during', 'such', 'while', \"aren't\", 'because', 'can', 'of', 'couldn', 'yourself', 'but', 'wasn', \"it's\", \"wasn't\", 'where', 'll', 're', 'out', 'shan', 'weren', \"hasn't\", 'you', 't', 'further', 'have', 'been', 'from', 'aren', 'that', 'theirs', \"that'll\", 'which', 'ourselves', 'again', \"didn't\", 'me', 'were', 'for', 'to', 've', \"shouldn't\", 'i', 'than', 'him', 'we', 'or', 'yourselves', 'itself', 'down', 'them', 'under', 'mightn', 'an', \"weren't\", 'himself', 'so', 'most', 'why', 'will', 'do', \"don't\", 'was', 'having', 'its', 'very', 'mustn', 'd', 'be', 'all', 'those', 'who', 'no', 'now', 'ain', 'haven', 'our', 'don', 'she', 'nor', 'm', 'above', 'is', 'between', 'yours', 'in', 'through', 'against', \"should've\", 'few', 'only', \"you're\", \"mightn't\", 'y', 'he', 'shouldn', 'too', 'this', 'own', 'just', 'here', 'hasn', 'the'}\n"
          ]
        }
      ]
    }
  ]
}