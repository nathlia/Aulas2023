{
  "nbformat": 4,
  "nbformat_minor": 0,
  "metadata": {
    "colab": {
      "provenance": [],
      "toc_visible": true,
      "include_colab_link": true
    },
    "kernelspec": {
      "name": "python3",
      "display_name": "Python 3"
    },
    "language_info": {
      "name": "python"
    }
  },
  "cells": [
    {
      "cell_type": "markdown",
      "metadata": {
        "id": "view-in-github",
        "colab_type": "text"
      },
      "source": [
        "<a href=\"https://colab.research.google.com/github/nathlia/Aulas2023/blob/RECUPERA%C3%87%C3%83O-DE-INFORMA%C3%87%C3%83O-E-PERSONALIZA%C3%87%C3%83O-NA-WEB-(DPADP0152)/aula15082023.ipynb\" target=\"_parent\"><img src=\"https://colab.research.google.com/assets/colab-badge.svg\" alt=\"Open In Colab\"/></a>"
      ]
    },
    {
      "cell_type": "markdown",
      "source": [
        "Exemplo 1 - Lista em Python\n"
      ],
      "metadata": {
        "id": "XDEcJ-W8dKs9"
      }
    },
    {
      "cell_type": "code",
      "source": [
        "x = [10,3,4,5]\n"
      ],
      "metadata": {
        "id": "SzMHZP4QcdPB"
      },
      "execution_count": null,
      "outputs": []
    },
    {
      "cell_type": "code",
      "source": [
        "x"
      ],
      "metadata": {
        "id": "aNql6LYSdWJC",
        "outputId": "9c788650-6a91-4cae-dd96-e4df5c43702d",
        "colab": {
          "base_uri": "https://localhost:8080/"
        }
      },
      "execution_count": null,
      "outputs": [
        {
          "output_type": "execute_result",
          "data": {
            "text/plain": [
              "[10, 3, 4, 5]"
            ]
          },
          "metadata": {},
          "execution_count": 8
        }
      ]
    },
    {
      "cell_type": "code",
      "source": [
        "print(x)"
      ],
      "metadata": {
        "id": "MpbQk_y-daFq",
        "outputId": "a2950b4f-233a-4432-9082-4d7daa96a7c3",
        "colab": {
          "base_uri": "https://localhost:8080/"
        }
      },
      "execution_count": null,
      "outputs": [
        {
          "output_type": "stream",
          "name": "stdout",
          "text": [
            "[10, 3, 4, 5]\n"
          ]
        }
      ]
    },
    {
      "cell_type": "code",
      "source": [
        "x.append(9)"
      ],
      "metadata": {
        "id": "UuVwxt2H8OZK"
      },
      "execution_count": null,
      "outputs": []
    },
    {
      "cell_type": "code",
      "source": [
        "x"
      ],
      "metadata": {
        "colab": {
          "base_uri": "https://localhost:8080/"
        },
        "id": "IeSZbK0S8g9Q",
        "outputId": "55ab59b3-fb3d-4fec-e2a9-6e7b83fbb6af"
      },
      "execution_count": null,
      "outputs": [
        {
          "output_type": "execute_result",
          "data": {
            "text/plain": [
              "[10, 3, 4, 5, 9]"
            ]
          },
          "metadata": {},
          "execution_count": 11
        }
      ]
    },
    {
      "cell_type": "code",
      "source": [
        "soma = 0\n",
        "for cada_x in x:\n",
        "    print(cada_x)\n",
        "    soma = soma + cada_x\n",
        "    print(soma)"
      ],
      "metadata": {
        "colab": {
          "base_uri": "https://localhost:8080/"
        },
        "id": "uRvOXisFkeis",
        "outputId": "21ec112b-56dd-4bf4-ac7e-526c1c76b91c"
      },
      "execution_count": null,
      "outputs": [
        {
          "output_type": "stream",
          "name": "stdout",
          "text": [
            "10\n",
            "10\n",
            "3\n",
            "13\n",
            "4\n",
            "17\n",
            "5\n",
            "22\n",
            "9\n",
            "31\n"
          ]
        }
      ]
    },
    {
      "cell_type": "code",
      "source": [
        "del x[0]"
      ],
      "metadata": {
        "id": "FdduwXge9R5S"
      },
      "execution_count": null,
      "outputs": []
    },
    {
      "cell_type": "code",
      "source": [
        "x"
      ],
      "metadata": {
        "id": "bMALHQqT9ZhG",
        "outputId": "61fb7e5f-82ba-4e58-80c4-b0bf4fb80c2a",
        "colab": {
          "base_uri": "https://localhost:8080/"
        }
      },
      "execution_count": null,
      "outputs": [
        {
          "output_type": "execute_result",
          "data": {
            "text/plain": [
              "[3, 4, 5, 9]"
            ]
          },
          "metadata": {},
          "execution_count": 20
        }
      ]
    },
    {
      "cell_type": "markdown",
      "source": [
        "Exemplo 2 - Lista de Palavras"
      ],
      "metadata": {
        "id": "Zw7Xi0FT69JS"
      }
    },
    {
      "cell_type": "code",
      "source": [
        "words = [\"banco\", \"de\", \"dados\"]\n",
        "print(words)\n",
        "for word in words:\n",
        "    print(word)\n",
        "\n"
      ],
      "metadata": {
        "colab": {
          "base_uri": "https://localhost:8080/"
        },
        "id": "J_IH8KXyl1jC",
        "outputId": "e0d245fb-9f20-4d99-b9d5-05b4681342d9"
      },
      "execution_count": null,
      "outputs": [
        {
          "output_type": "stream",
          "name": "stdout",
          "text": [
            "['banco', 'de', 'dados']\n",
            "banco\n",
            "de\n",
            "dados\n"
          ]
        }
      ]
    },
    {
      "cell_type": "code",
      "source": [
        "palavra = input(\"entre com uma palavra: \")\n",
        "if palavra not in words:\n",
        "    print(\"não existe\")\n",
        "else:\n",
        "    print(\"existe\")\n"
      ],
      "metadata": {
        "colab": {
          "base_uri": "https://localhost:8080/"
        },
        "id": "NbpYfGXG7ITZ",
        "outputId": "1b4970d8-b8f2-4c2b-906b-2dd9fd5c9553"
      },
      "execution_count": null,
      "outputs": [
        {
          "output_type": "stream",
          "name": "stdout",
          "text": [
            "entre com uma palavra: redes\n",
            "não existe\n"
          ]
        }
      ]
    },
    {
      "cell_type": "markdown",
      "source": [],
      "metadata": {
        "id": "S7thNPG9caqC"
      }
    },
    {
      "cell_type": "code",
      "source": [
        "print(type(words))"
      ],
      "metadata": {
        "colab": {
          "base_uri": "https://localhost:8080/"
        },
        "id": "Iy_QeXQhrpyL",
        "outputId": "1f9e253b-f68a-4da6-e746-c9eeb0edb980"
      },
      "execution_count": null,
      "outputs": [
        {
          "output_type": "stream",
          "name": "stdout",
          "text": [
            "<class 'list'>\n"
          ]
        }
      ]
    },
    {
      "cell_type": "markdown",
      "source": [
        "Vendo o tipo de variável\n",
        "\n"
      ],
      "metadata": {
        "id": "fAUc-A4r7hYQ"
      }
    },
    {
      "cell_type": "code",
      "source": [
        "lista_mix = [\"daniel\", 1, 1.2, True]\n",
        "\n",
        "print(lista_mix)"
      ],
      "metadata": {
        "colab": {
          "base_uri": "https://localhost:8080/"
        },
        "id": "oTI-ZVg0r_tp",
        "outputId": "a2d97d55-8a50-452b-a471-d55647489029"
      },
      "execution_count": null,
      "outputs": [
        {
          "output_type": "stream",
          "name": "stdout",
          "text": [
            "['daniel', 1, 1.2, True]\n"
          ]
        }
      ]
    },
    {
      "cell_type": "code",
      "source": [
        "dic_palavras = {}\n"
      ],
      "metadata": {
        "id": "uO-3QXPstW3S"
      },
      "execution_count": null,
      "outputs": []
    },
    {
      "cell_type": "code",
      "source": [
        "dic_palavras = {\"banco\": 1, \"de\": 2, \"dados\": 3}\n",
        "print(dic_palavras[\"de\"])"
      ],
      "metadata": {
        "colab": {
          "base_uri": "https://localhost:8080/"
        },
        "id": "e7Xm5jGPwXl6",
        "outputId": "e372f617-d3de-4343-fa55-0ed8b9d36f07"
      },
      "execution_count": null,
      "outputs": [
        {
          "output_type": "stream",
          "name": "stdout",
          "text": [
            "2\n"
          ]
        }
      ]
    },
    {
      "cell_type": "code",
      "source": [
        "dic_palavras2 = {\"banco\": [1,4,5], \"de\": [2,4,6], \"dados\": [3,2]}\n",
        "print(dic_palavras2[\"de\"])"
      ],
      "metadata": {
        "colab": {
          "base_uri": "https://localhost:8080/"
        },
        "id": "s0tfyvncwuiQ",
        "outputId": "96a8f07c-c7f7-4cc0-ff1c-9650180e3547"
      },
      "execution_count": null,
      "outputs": [
        {
          "output_type": "stream",
          "name": "stdout",
          "text": [
            "[2, 4, 6]\n"
          ]
        }
      ]
    },
    {
      "cell_type": "code",
      "source": [
        "dic_palavras3 = {}\n",
        "dic_palavras3 = {\"banco\": []}\n",
        "print(dic_palavras3)\n",
        "dic_palavras3[\"de\"]=[]\n",
        "print(dic_palavras3)"
      ],
      "metadata": {
        "colab": {
          "base_uri": "https://localhost:8080/"
        },
        "id": "AiGp-Ev2xR1x",
        "outputId": "95c42176-3953-43b8-8ea2-ee82cec3233f"
      },
      "execution_count": null,
      "outputs": [
        {
          "output_type": "stream",
          "name": "stdout",
          "text": [
            "{'banco': []}\n",
            "{'banco': [], 'de': []}\n"
          ]
        }
      ]
    },
    {
      "cell_type": "code",
      "source": [
        "dic_palavras3[\"de\"].append([1,3])"
      ],
      "metadata": {
        "id": "AUN5THAoam93"
      },
      "execution_count": null,
      "outputs": []
    },
    {
      "cell_type": "code",
      "source": [
        "print(dic_palavras3)\n",
        "print(dic_palavras3[\"de\"][0])"
      ],
      "metadata": {
        "colab": {
          "base_uri": "https://localhost:8080/"
        },
        "id": "dIGxnTzQcBph",
        "outputId": "0c9c1d69-2d23-4922-ad01-2eb63daf8e76"
      },
      "execution_count": null,
      "outputs": [
        {
          "output_type": "stream",
          "name": "stdout",
          "text": [
            "{'banco': [], 'de': [[1, 3]]}\n",
            "[1, 3]\n"
          ]
        }
      ]
    },
    {
      "cell_type": "code",
      "source": [
        "del dic_palavras3[\"de\"][0]"
      ],
      "metadata": {
        "id": "uyPE_ujgcJ1s"
      },
      "execution_count": null,
      "outputs": []
    },
    {
      "cell_type": "code",
      "source": [
        "print(dic_palavras3)"
      ],
      "metadata": {
        "colab": {
          "base_uri": "https://localhost:8080/"
        },
        "id": "00f7CVNZdvSu",
        "outputId": "d0c60e1f-d5ae-4270-adf4-2d16f445e3b7"
      },
      "execution_count": null,
      "outputs": [
        {
          "output_type": "stream",
          "name": "stdout",
          "text": [
            "{'banco': [], 'de': []}\n"
          ]
        }
      ]
    },
    {
      "cell_type": "code",
      "source": [
        "import spacy\n",
        "import numpy as np\n",
        "from sklearn.metrics.pairwise import cosine_similarity\n",
        "vector1 = [1,1,1,1,1,1,1,0,0]\n",
        "vector2 = [1,1,1,1,1,1,1,0,0]\n",
        "\n",
        "similarity = cosine_similarity([vector1], [vector2])"
      ],
      "metadata": {
        "id": "_Kgtk0K3fMGh"
      },
      "execution_count": null,
      "outputs": []
    },
    {
      "cell_type": "code",
      "source": [
        "print(similarity)"
      ],
      "metadata": {
        "colab": {
          "base_uri": "https://localhost:8080/"
        },
        "id": "vuIb-73cfn32",
        "outputId": "dce97a12-4f2d-4e65-f5bf-befba9e9f861"
      },
      "execution_count": null,
      "outputs": [
        {
          "output_type": "stream",
          "name": "stdout",
          "text": [
            "[[1.]]\n"
          ]
        }
      ]
    }
  ]
}